{
 "cells": [
  {
   "cell_type": "code",
   "execution_count": 11,
   "id": "c6b648f2-b71d-431c-9c65-40908cecbece",
   "metadata": {},
   "outputs": [],
   "source": [
    "from qiskit import QuantumCircuit, transpile, Aer, IBMQ, assemble\n",
    "from qiskit.tools.jupyter import *\n",
    "from qiskit.visualization import *\n",
    "sim = Aer.get_backend('aer_simulator')"
   ]
  },
  {
   "cell_type": "code",
   "execution_count": 12,
   "id": "d1d4912b-f8cd-4dc3-85ea-6ed5dd66e867",
   "metadata": {},
   "outputs": [
    {
     "data": {
      "image/png": "[encoded data removed]",
      "text/plain": [
       "<Figure size 417.879x204.68 with 1 Axes>"
      ]
     },
     "execution_count": 12,
     "metadata": {},
     "output_type": "execute_result"
    }
   ],
   "source": [
    "qc = QuantumCircuit(2) # We are redefining qc\n",
    "initial_state1 = [1, 0]\n",
    "qc.initialize(initial_state1, 0)\n",
    "initial_state2 = [0, 1]\n",
    "qc.initialize(initial_state2, 1)\n",
    "qc.h(0)\n",
    "qc.h(1)\n",
    "qc.measure_all()\n",
    "qc.draw()"
   ]
  },
  {
   "cell_type": "code",
   "execution_count": 16,
   "id": "f3ce7ab7-93ef-4203-8ea4-db6ac5ecd9a8",
   "metadata": {},
   "outputs": [
    {
     "name": "stderr",
     "output_type": "stream",
     "text": [
      "Simulation failed and returned the following error message:\n",
      "ERROR: Failed to load qobj: Duplicate key \"statevector\" in save instruction.\n"
     ]
    },
    {
     "name": "stdout",
     "output_type": "stream",
     "text": [
      "Traceback \u001b[1;36m(most recent call last)\u001b[0m:\n",
      "  Input \u001b[0;32mIn [16]\u001b[0m in \u001b[0;35m<cell line: 3>\u001b[0m\n",
      "    plot_histogram(results)\n",
      "  File \u001b[0;32m/opt/conda/lib/python3.8/site-packages/qiskit/utils/lazy_tester.py:165\u001b[0m in \u001b[0;35mout\u001b[0m\n",
      "    return function(*args, **kwargs)\n",
      "\u001b[1;36m  File \u001b[1;32m/opt/conda/lib/python3.8/site-packages/qiskit/visualization/counts_visualization.py:147\u001b[1;36m in \u001b[1;35mplot_histogram\u001b[1;36m\u001b[0m\n",
      "\u001b[1;33m    labels = list(sorted(functools.reduce(lambda x, y: x.union(y.keys()), data, set())))\u001b[0m\n",
      "\u001b[1;31mTypeError\u001b[0m\u001b[1;31m:\u001b[0m reduce() arg 2 must support iteration\n",
      "\n",
      "Use %tb to get the full traceback.\n"
     ]
    },
    {
     "data": {
      "text/html": [
       "\n",
       "<style>\n",
       ".button {\n",
       "  border: none;\n",
       "  color: white;\n",
       "  padding: 4px 8px;\n",
       "  text-align: center;\n",
       "  text-decoration: none;\n",
       "  display: inline-block;\n",
       "  font-size: 12px;\n",
       "  margin: 4px 2px;\n",
       "  transition-duration: 0.2s;\n",
       "  cursor: pointer;\n",
       "}\n",
       ".iqx-button {\n",
       "  background-color: #0f62fe; \n",
       "  color: white; \n",
       "}\n",
       ".iqx-button:hover {\n",
       "  background-color: #0043ce;\n",
       "  color: white;\n",
       "}\n",
       "</style>\n",
       "<a href=\"https://stackoverflow.com/search?q=TypeError: reduce() arg 2 must support iteration\" target='_blank'><button class='button iqx-button'>Search for solution online</button></a>\n"
      ],
      "text/plain": [
       "<IPython.core.display.HTML object>"
      ]
     },
     "metadata": {},
     "output_type": "display_data"
    },
    {
     "data": {
      "image/png": "[encoded data removed]",
      "text/plain": [
       "<Figure size 504x360 with 1 Axes>"
      ]
     },
     "metadata": {
      "needs_background": "light"
     },
     "output_type": "display_data"
    }
   ],
   "source": [
    "qobj = assemble(qc)\n",
    "results = sim.run(qobj).result()\n",
    "plot_histogram(results)"
   ]
  },
  {
   "cell_type": "code",
   "execution_count": null,
   "id": "e53d5450-e9e4-456b-b75e-b6e4832aa80c",
   "metadata": {},
   "outputs": [],
   "source": []
  }
 ],
 "metadata": {
  "kernelspec": {
   "display_name": "Python 3 (ipykernel)",
   "language": "python",
   "name": "python3"
  },
  "language_info": {
   "codemirror_mode": {
    "name": "ipython",
    "version": 3
   },
   "file_extension": ".py",
   "mimetype": "text/x-python",
   "name": "python",
   "nbconvert_exporter": "python",
   "pygments_lexer": "ipython3",
   "version": "3.8.13"
  },
  "widgets": {
   "application/vnd.jupyter.widget-state+json": {
    "state": {
     "00265bf3f0df47e4b25f8c15b17365af": {
      "model_module": "@jupyter-widgets/base",
      "model_module_version": "1.2.0",
      "model_name": "LayoutModel",
      "state": {
       "width": "95px"
      }
     },
     "05334530829d4952b455bc0c9b52847a": {
      "model_module": "@jupyter-widgets/base",
      "model_module_version": "1.2.0",
      "model_name": "LayoutModel",
      "state": {
       "width": "145px"
      }
     },
     "0af92c9c99f14cb6b07e45e74776427d": {
      "model_module": "@jupyter-widgets/controls",
      "model_module_version": "1.5.0",
      "model_name": "HTMLModel",
      "state": {
       "layout": "IPY_MODEL_c1fa6999c89a4b71816a62f115c0891c",
       "style": "IPY_MODEL_5af012d697dd4ba9bc13063a4511bc4d",
       "value": "<h5>Message</h5>"
      }
     },
     "1e9f205b75844042a437892bfdc254c5": {
      "model_module": "@jupyter-widgets/controls",
      "model_module_version": "1.5.0",
      "model_name": "DescriptionStyleModel",
      "state": {
       "description_width": ""
      }
     },
     "26d0c81a224f407caf47a3e4a287bf48": {
      "model_module": "@jupyter-widgets/base",
      "model_module_version": "1.2.0",
      "model_name": "LayoutModel",
      "state": {
       "grid_area": "right",
       "padding": "0px 0px 0px 0px",
       "width": "70px"
      }
     },
     "28fd9512881d4a6b95be708a45312f90": {
      "model_module": "@jupyter-widgets/controls",
      "model_module_version": "1.5.0",
      "model_name": "HTMLModel",
      "state": {
       "layout": "IPY_MODEL_fe777376580b432db9084138f6c88092",
       "style": "IPY_MODEL_1e9f205b75844042a437892bfdc254c5",
       "value": "<h5>Job ID</h5>"
      }
     },
     "2ccee1195b99409b80d7453d5bb02e82": {
      "model_module": "@jupyter-widgets/base",
      "model_module_version": "1.2.0",
      "model_name": "LayoutModel",
      "state": {
       "margin": "0px 0px 10px 0px"
      }
     },
     "38a23be0b7c040fa8ba3eb79ea7f16e0": {
      "model_module": "@jupyter-widgets/base",
      "model_module_version": "1.2.0",
      "model_name": "LayoutModel",
      "state": {
       "width": "70px"
      }
     },
     "399c21d2e8694a91894ec461427720dc": {
      "model_module": "@jupyter-widgets/controls",
      "model_module_version": "1.5.0",
      "model_name": "ButtonStyleModel",
      "state": {}
     },
     "43a05fa63d31414a982da11a5d770466": {
      "model_module": "@jupyter-widgets/controls",
      "model_module_version": "1.5.0",
      "model_name": "DescriptionStyleModel",
      "state": {
       "description_width": ""
      }
     },
     "445d42590d524951b49e2f74e443d1dd": {
      "model_module": "@jupyter-widgets/controls",
      "model_module_version": "1.5.0",
      "model_name": "HTMLModel",
      "state": {
       "layout": "IPY_MODEL_38a23be0b7c040fa8ba3eb79ea7f16e0",
       "style": "IPY_MODEL_43a05fa63d31414a982da11a5d770466",
       "value": "<h5>Queue</h5>"
      }
     },
     "49fae991a47f408b91cfd83cd09b7421": {
      "model_module": "@jupyter-widgets/controls",
      "model_module_version": "1.5.0",
      "model_name": "DescriptionStyleModel",
      "state": {
       "description_width": ""
      }
     },
     "53efc521d7594e73853530c801f8efd8": {
      "model_module": "@jupyter-widgets/controls",
      "model_module_version": "1.5.0",
      "model_name": "HTMLModel",
      "state": {
       "layout": "IPY_MODEL_00265bf3f0df47e4b25f8c15b17365af",
       "style": "IPY_MODEL_49fae991a47f408b91cfd83cd09b7421",
       "value": "<h5>Status</h5>"
      }
     },
     "5af012d697dd4ba9bc13063a4511bc4d": {
      "model_module": "@jupyter-widgets/controls",
      "model_module_version": "1.5.0",
      "model_name": "DescriptionStyleModel",
      "state": {
       "description_width": ""
      }
     },
     "5c4e4908b7bf4a9da105864e503d1c0c": {
      "model_module": "@jupyter-widgets/controls",
      "model_module_version": "1.5.0",
      "model_name": "DescriptionStyleModel",
      "state": {
       "description_width": ""
      }
     },
     "7d9b9e2cdc0e420bbad343241909aa78": {
      "model_module": "@jupyter-widgets/controls",
      "model_module_version": "1.5.0",
      "model_name": "HBoxModel",
      "state": {
       "children": [
        "IPY_MODEL_28fd9512881d4a6b95be708a45312f90",
        "IPY_MODEL_801ee5fd4c4b4217ba0088c43d6c1c59",
        "IPY_MODEL_53efc521d7594e73853530c801f8efd8",
        "IPY_MODEL_445d42590d524951b49e2f74e443d1dd",
        "IPY_MODEL_0af92c9c99f14cb6b07e45e74776427d"
       ],
       "layout": "IPY_MODEL_b4b230031b9945619ffd395340f7910b"
      }
     },
     "801ee5fd4c4b4217ba0088c43d6c1c59": {
      "model_module": "@jupyter-widgets/controls",
      "model_module_version": "1.5.0",
      "model_name": "HTMLModel",
      "state": {
       "layout": "IPY_MODEL_05334530829d4952b455bc0c9b52847a",
       "style": "IPY_MODEL_5c4e4908b7bf4a9da105864e503d1c0c",
       "value": "<h5>Backend</h5>"
      }
     },
     "823527cb0bdd45299d04e0aede834c47": {
      "model_module": "@jupyter-widgets/base",
      "model_module_version": "1.2.0",
      "model_name": "LayoutModel",
      "state": {
       "grid_template_areas": "\n                                       \". . . . right \"\n                                        ",
       "grid_template_columns": "20% 20% 20% 20% 20%",
       "width": "100%"
      }
     },
     "87470ca7ded84a4dbc2237a4b6d20fd9": {
      "model_module": "@jupyter-widgets/controls",
      "model_module_version": "1.5.0",
      "model_name": "GridBoxModel",
      "state": {
       "children": [
        "IPY_MODEL_d2d63650a72b4220adbdfaf091c89810"
       ],
       "layout": "IPY_MODEL_823527cb0bdd45299d04e0aede834c47"
      }
     },
     "b4b230031b9945619ffd395340f7910b": {
      "model_module": "@jupyter-widgets/base",
      "model_module_version": "1.2.0",
      "model_name": "LayoutModel",
      "state": {
       "margin": "0px 0px 0px 37px",
       "width": "600px"
      }
     },
     "c1fa6999c89a4b71816a62f115c0891c": {
      "model_module": "@jupyter-widgets/base",
      "model_module_version": "1.2.0",
      "model_name": "LayoutModel",
      "state": {}
     },
     "d2d63650a72b4220adbdfaf091c89810": {
      "model_module": "@jupyter-widgets/controls",
      "model_module_version": "1.5.0",
      "model_name": "ButtonModel",
      "state": {
       "button_style": "primary",
       "description": "Clear",
       "layout": "IPY_MODEL_26d0c81a224f407caf47a3e4a287bf48",
       "style": "IPY_MODEL_399c21d2e8694a91894ec461427720dc"
      }
     },
     "e077483ada434a9a92659024cdbd7990": {
      "model_module": "@jupyter-widgets/controls",
      "model_module_version": "1.5.0",
      "model_name": "HTMLModel",
      "state": {
       "layout": "IPY_MODEL_2ccee1195b99409b80d7453d5bb02e82",
       "style": "IPY_MODEL_ef99f943471a4a4f89a42a1e807fe9f4",
       "value": "<p style='font-family: IBM Plex Sans, Arial, Helvetica, sans-serif; font-size: 20px; font-weight: medium;'>Circuit Properties</p>"
      }
     },
     "ef99f943471a4a4f89a42a1e807fe9f4": {
      "model_module": "@jupyter-widgets/controls",
      "model_module_version": "1.5.0",
      "model_name": "DescriptionStyleModel",
      "state": {
       "description_width": ""
      }
     },
     "fe777376580b432db9084138f6c88092": {
      "model_module": "@jupyter-widgets/base",
      "model_module_version": "1.2.0",
      "model_name": "LayoutModel",
      "state": {
       "width": "190px"
      }
     }
    },
    "version_major": 2,
    "version_minor": 0
   }
  }
 },
 "nbformat": 4,
 "nbformat_minor": 5
}
